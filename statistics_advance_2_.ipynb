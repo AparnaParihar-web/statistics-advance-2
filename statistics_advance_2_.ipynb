{
  "nbformat": 4,
  "nbformat_minor": 0,
  "metadata": {
    "colab": {
      "provenance": []
    },
    "kernelspec": {
      "name": "python3",
      "display_name": "Python 3"
    },
    "language_info": {
      "name": "python"
    }
  },
  "cells": [
    {
      "cell_type": "markdown",
      "source": [
        "Q1.What is hypothesis testing in statistics?\n",
        ">>Hypothesis testing in statistics is a method used to make decisions or draw conclusions about a population based on sample data.\n",
        "\n",
        "It helps you test whether there is enough evidence in a sample to support (or reject) a particular claim (called a hypothesis) about the population.\n",
        "\n",
        "\n",
        "* Key Concepts\n",
        "1. Null Hypothesis (H₀):\n",
        "The default or “no effect” statement you assume to be true until proven otherwise.\n",
        "Example:\n",
        "\n",
        "H₀: The average height of students = 165 cm\n",
        "\n",
        "2. Alternative Hypothesis (H₁ or Ha):\n",
        "The statement you want to test — it suggests that there is an effect or a difference.\n",
        "Example:\n",
        "\n",
        "H₁: The average height of students ≠ 165 cm\n",
        "\n",
        "3. Test Statistic:\n",
        "A numerical value calculated from sample data (like z, t, or χ²) to compare against a critical value.\n",
        "\n",
        "4. p-value:\n",
        "The probability of observing results as extreme as your sample data if the null hypothesis were true.\n",
        "\n",
        "If p ≤ 0.05, reject H₀ (significant result).\n",
        "\n",
        "If p > 0.05, fail to reject H₀ (not significant).\n",
        "\n",
        "5. Significance Level (α):\n",
        "The threshold you set (often 0.05) to decide whether results are statistically significant."
      ],
      "metadata": {
        "id": "jsiyX2XtgEmd"
      }
    },
    {
      "cell_type": "markdown",
      "source": [
        "  Q2. What is the null hypothesis, and how does it differ from the alternative\n",
        "hypothesis?\n",
        ">>The null hypothesis (H₀) and the alternative hypothesis (H₁ or Ha) are two opposing statements used in hypothesis testing to make decisions about population parameters.\n",
        " 1.  Null Hypothesis (H₀)\n",
        "\n",
        "It is the default or initial assumption that there is no effect, no difference, or no relationship in the population.\n",
        "\n",
        "It represents the status quo or what we assume to be true unless the data provide strong evidence against it.\n",
        "\n",
        "Example:\n",
        "A company claims its batteries last 10 hours on average.\n",
        "\n",
        "H₀: The average battery life = 10 hours\n",
        "\n",
        "This means you assume the company’s claim is true unless your test shows strong evidence otherwise.\n",
        "\n",
        " 2. Alternative Hypothesis (H₁ or Ha)\n",
        "\n",
        "It is the opposite of the null hypothesis.\n",
        "\n",
        "It represents what you want to prove — that there is an effect, difference, or relationship.\n",
        "\n",
        "It’s accepted only when there is enough evidence to reject the null hypothesis.\n",
        "\n",
        "Example (continuing):\n",
        "\n",
        "H₁: The average battery life ≠ 10 hours\n",
        "\n",
        "This means you believe the company’s claim might be wrong — the battery life could be higher or lower."
      ],
      "metadata": {
        "id": "i7qbysyxg2Ph"
      }
    },
    {
      "cell_type": "markdown",
      "source": [
        "Q3. Explain the significance level in hypothesis testing and its role in deciding\n",
        "the outcome of a test.\n",
        ">>The significance level, denoted by α (alpha), is a crucial concept in hypothesis testing.\n",
        "It helps you decide whether to reject or fail to reject the null hypothesis (H₀) based on the strength of your evidence.\n",
        "         \n",
        "         🔹 Definition\n",
        "\n",
        "The significance level (α) is the maximum probability of making a Type I error,\n",
        "which means rejecting the null hypothesis when it is actually true.\n",
        "\n",
        "It represents the threshold for deciding if your test result is statistically significant."
      ],
      "metadata": {
        "id": "zzXbwtKRhUUZ"
      }
    },
    {
      "cell_type": "markdown",
      "source": [
        "Q4. What are Type I and Type II errors? Give examples of each.\n",
        ">>🔹 Type I and Type II Errors\n",
        "\n",
        "When you perform a hypothesis test, you are making a decision based on sample data —\n",
        "and that decision might be wrong.\n",
        "\n",
        " 1. Type I Error (False Positive)\n",
        "\n",
        "Definition: Rejecting the null hypothesis when it is actually true.\n",
        "\n",
        "You’re seeing a difference or effect that doesn’t really exist.\n",
        "\n",
        "Probability of Type I Error = α (significance level).\n",
        "\n",
        "Example:\n",
        "A COVID test says a person is positive (infected) when they are actually not infected.\n",
        "\n",
        "→ The test wrongly rejects “no infection” (H₀).\n",
        "\n",
        "Statistical Example:\n",
        "\n",
        "H₀: A new medicine has no effect.\n",
        "\n",
        "H₁: The medicine works.\n",
        "If your test concludes “it works” when it doesn’t, that’s a Type I error.\n",
        "\n",
        "2. Type II Error (False Negative)\n",
        "\n",
        "Definition: Failing to reject the null hypothesis when it is actually false.\n",
        "\n",
        "You miss a real effect or difference that truly exists.\n",
        "\n",
        "Probability of Type II Error = β (beta).\n",
        "\n",
        "The power of a test = 1 – β (the ability to correctly detect an effect).\n",
        "\n",
        "Example:\n",
        "A COVID test says a person is negative (not infected) when they actually are infected.\n",
        "\n",
        "→ The test fails to detect the real effect.\n",
        "\n",
        "Statistical Example:\n",
        "\n",
        "H₀: A drug has no effect.\n",
        "\n",
        "H₁: The drug works.\n",
        "If the test concludes “no effect” when the drug actually works, that’s a Type II error.\n"
      ],
      "metadata": {
        "id": "abAuTh8khoVt"
      }
    },
    {
      "cell_type": "markdown",
      "source": [
        "Q5.What is the difference between a Z-test and a T-test? Explain when to use\n",
        "each.\n",
        ">>1. Z-Test\n",
        "\n",
        "Definition:\n",
        "A Z-test is used to determine whether there is a significant difference between sample and population means (or between two samples) when:\n",
        "\n",
        "The population variance (σ²) is known, and\n",
        "\n",
        "The sample size (n) is large (n ≥ 30).\n",
        "\n",
        " Formula:\n",
        "   Z=σ/n\n",
        "​Xˉ−μ​\n",
        "\n",
        "\n",
        "where\n",
        "\n",
        "\n",
        "X = sample mean,\n",
        "\n",
        "\n",
        "μ = population mean,\n",
        "\n",
        "\n",
        "σ = population standard deviation,\n",
        "\n",
        "\n",
        "n = sample size\n",
        "When to Use a Z-Test:\n",
        "\n",
        "Large sample size (n ≥ 30).\n",
        "\n",
        "Population standard deviation is known.\n",
        "\n",
        "Data follows (or approximately follows) a normal distribution.\n",
        "\n",
        "Example:\n",
        "A company claims the average height of its employees is 170 cm.\n",
        "You take a sample of 50 employees (σ known).\n",
        "→ Use a Z-test to check if the sample mean differs from 170.\n",
        "\n",
        "2. T-Test\n",
        "\n",
        "Definition:\n",
        "\n",
        "A T-test is used to test hypotheses about means when:\n",
        "\n",
        "The population variance (σ²) is unknown, and\n",
        "\n",
        "The sample size (n) is small (n < 30).\n",
        "It uses the sample standard deviation (s) instead of the population σ.\n",
        "Formula:\n",
        "𝑡\n",
        "=\n",
        "𝑋\n",
        "ˉ\n",
        "−\n",
        "𝜇\n",
        "𝑠\n",
        "/\n",
        "𝑛\n",
        "\n",
        "\n",
        "where\n",
        "s = sample standard deviation.\n",
        "When to Use a T-Test:\n",
        "\n",
        "Small sample size (n < 30).\n",
        "\n",
        "Population standard deviation is unknown.\n",
        "\n",
        "Data approximately normal or close to normal.\n",
        "\n",
        "Example:\n",
        "A nutritionist tests if a new diet affects weight loss.\n",
        "She collects data from 20 people (σ unknown).\n",
        "→ Use a T-test to check if the diet significantly changes average weight.\n"
      ],
      "metadata": {
        "id": "gGYDPamliXub"
      }
    },
    {
      "cell_type": "code",
      "source": [
        "# Write a Python program to generate a binomial distribution with n=10 and p=0.5, then plot its histogram.\n",
        "\n",
        "import random\n",
        "import matplotlib.pyplot as plt\n",
        "\n",
        "# Parameters\n",
        "n = 10      # number of trials\n",
        "p = 0.5     # probability of success\n",
        "size = 1000 # number of experiments\n",
        "\n",
        "# Generate binomial distribution manually\n",
        "data = []\n",
        "\n",
        "for _ in range(size):\n",
        "    successes = 0\n",
        "    for _ in range(n):\n",
        "        if random.random() < p:  # random.random() generates number in [0,1)\n",
        "            successes += 1\n",
        "    data.append(successes)\n",
        "\n",
        "# Plot histogram\n",
        "plt.hist(data, bins=range(n+2), edgecolor='black', alpha=0.7)\n",
        "plt.title(\"Binomial Distribution (n=10, p=0.5) using random()\")\n",
        "plt.xlabel(\"Number of Successes\")\n",
        "plt.ylabel(\"Frequency\")\n",
        "plt.xticks(range(n+1))\n",
        "plt.show()\n"
      ],
      "metadata": {
        "colab": {
          "base_uri": "https://localhost:8080/",
          "height": 472
        },
        "id": "7JudFWfmkwgg",
        "outputId": "d2739f2a-b77c-4ba2-952f-086dfb1ce532"
      },
      "execution_count": 1,
      "outputs": [
        {
          "output_type": "display_data",
          "data": {
            "text/plain": [
              "<Figure size 640x480 with 1 Axes>"
            ],
            "image/png": "[encoded data removed]"
          },
          "metadata": {}
        }
      ]
    },
    {
      "cell_type": "code",
      "source": [
        "# Implement hypothesis testing using Z-statistics for a sample dataset in Python. Show the Python code and interpret the results.\n",
        "\n",
        "import numpy as np\n",
        "from scipy import stats\n",
        "\n",
        "# Sample data\n",
        "sample_data = [49.1, 50.2, 51.0, 48.7, 50.5, 49.8, 50.3, 50.7, 50.2, 49.6,\n",
        "               50.1, 49.9, 50.8, 50.4, 48.9, 50.6, 50.0, 49.7, 50.2, 49.5,\n",
        "               50.1, 50.3, 50.4, 50.5, 50.0, 50.7, 49.3, 49.8, 50.2, 50.9,\n",
        "               50.3, 50.4, 50.0, 49.7, 50.5, 49.9]\n",
        "\n",
        "# Known population parameters\n",
        "population_mean = 50       # μ\n",
        "population_std = 0.5       # assume known σ\n",
        "n = len(sample_data)       # sample size\n",
        "\n",
        "# Sample mean\n",
        "sample_mean = np.mean(sample_data)\n",
        "\n",
        "# Z-statistic formula: Z = (X̄ - μ) / (σ / sqrt(n))\n",
        "z_stat = (sample_mean - population_mean) / (population_std / np.sqrt(n))\n",
        "\n",
        "# Two-tailed test: p-value from Z\n",
        "p_value = 2 * (1 - stats.norm.cdf(abs(z_stat)))\n",
        "\n",
        "# Output results\n",
        "print(f\"Sample Mean: {sample_mean:.3f}\")\n",
        "print(f\"Z-Statistic: {z_stat:.3f}\")\n",
        "print(f\"P-Value: {p_value:.4f}\")\n",
        "\n",
        "# Interpretation\n",
        "alpha = 0.05\n",
        "if p_value < alpha:\n",
        "    print(\"Reject H0: There is significant evidence that the sample mean differs from 50.\")\n",
        "else:\n",
        "    print(\"Fail to reject H0: No significant evidence that the sample mean differs from 50.\")\n"
      ],
      "metadata": {
        "colab": {
          "base_uri": "https://localhost:8080/"
        },
        "id": "pG7ygmtTlpkl",
        "outputId": "9eb7f731-12b4-4558-90ca-a12655547714"
      },
      "execution_count": 2,
      "outputs": [
        {
          "output_type": "stream",
          "name": "stdout",
          "text": [
            "Sample Mean: 50.089\n",
            "Z-Statistic: 1.067\n",
            "P-Value: 0.2861\n",
            "Fail to reject H0: No significant evidence that the sample mean differs from 50.\n"
          ]
        }
      ]
    },
    {
      "cell_type": "code",
      "source": [
        "#Write a Python script to simulate data from a normal distribution and calculate the 95% confidence interval for its mean. Plot the data using Matplotlib.\n",
        "import numpy as np\n",
        "import matplotlib.pyplot as plt\n",
        "from scipy import stats\n",
        "\n",
        "# Parameters for the normal distribution\n",
        "mu = 50        # mean\n",
        "sigma = 5      # standard deviation\n",
        "n = 100        # sample size\n",
        "\n",
        "# Simulate data\n",
        "data = np.random.normal(mu, sigma, n)\n",
        "\n",
        "# Sample statistics\n",
        "sample_mean = np.mean(data)\n",
        "sample_std = np.std(data, ddof=1)  # sample standard deviation\n",
        "alpha = 0.05  # significance level\n",
        "\n",
        "# 95% Confidence Interval calculation\n",
        "z_score = stats.norm.ppf(1 - alpha/2)  # for 95% CI\n",
        "margin_of_error = z_score * (sample_std / np.sqrt(n))\n",
        "ci_lower = sample_mean - margin_of_error\n",
        "ci_upper = sample_mean + margin_of_error\n",
        "\n",
        "print(f\"Sample Mean: {sample_mean:.2f}\")\n",
        "print(f\"95% Confidence Interval: ({ci_lower:.2f}, {ci_upper:.2f})\")\n",
        "\n",
        "# Plot the data\n",
        "plt.figure(figsize=(10,5))\n",
        "plt.hist(data, bins=15, edgecolor='black', alpha=0.7)\n",
        "plt.axvline(sample_mean, color='red', linestyle='dashed', linewidth=2, label='Sample Mean')\n",
        "plt.axvline(ci_lower, color='green', linestyle='dashed', linewidth=2, label='CI Lower')\n",
        "plt.axvline(ci_upper, color='green', linestyle='dashed', linewidth=2, label='CI Upper')\n",
        "\n",
        "plt.title(\"Normal Distribution and 95% Confidence Interval\")\n",
        "plt.xlabel(\"Value\")\n",
        "plt.ylabel(\"Frequency\")\n",
        "plt.legend()\n",
        "plt.show()"
      ],
      "metadata": {
        "colab": {
          "base_uri": "https://localhost:8080/",
          "height": 522
        },
        "id": "mjPIVquwl33A",
        "outputId": "fe1895af-5ed3-4902-de9e-e97e81a84d4d"
      },
      "execution_count": 4,
      "outputs": [
        {
          "output_type": "stream",
          "name": "stdout",
          "text": [
            "Sample Mean: 50.85\n",
            "95% Confidence Interval: (49.94, 51.75)\n"
          ]
        },
        {
          "output_type": "display_data",
          "data": {
            "text/plain": [
              "<Figure size 1000x500 with 1 Axes>"
            ],
            "image/png": "[encoded data removed]"
          },
          "metadata": {}
        }
      ]
    },
    {
      "cell_type": "code",
      "source": [
        "# Write a Python function to calculate the Z-scores from a dataset and visualize the standardized data using a histogram. Explain what the Z-scores represent in terms of standard deviations from the mean.\n",
        "import numpy as np\n",
        "import matplotlib.pyplot as plt\n",
        "\n",
        "def z_score_analysis(data):\n",
        "    \"\"\"\n",
        "    Calculate Z-scores for a dataset and visualize them using a histogram.\n",
        "\n",
        "    Parameters:\n",
        "    data (list or np.array): Dataset\n",
        "\n",
        "    Returns:\n",
        "    z_scores (np.array): Z-scores of the dataset\n",
        "    \"\"\"\n",
        "    data = np.array(data)\n",
        "    mean = np.mean(data)\n",
        "    std = np.std(data, ddof=1)  # sample standard deviation\n",
        "\n",
        "    # Calculate Z-scores\n",
        "    z_scores = (data - mean) / std\n",
        "\n",
        "    # Plot histogram of Z-scores\n",
        "    plt.figure(figsize=(8,5))\n",
        "    plt.hist(z_scores, bins=15, edgecolor='black', alpha=0.7)\n",
        "    plt.title(\"Histogram of Z-Scores\")\n",
        "    plt.xlabel(\"Z-Score\")\n",
        "    plt.ylabel(\"Frequency\")\n",
        "    plt.axvline(0, color='red', linestyle='dashed', linewidth=2, label='Mean (Z=0)')\n",
        "    plt.legend()\n",
        "    plt.show()\n",
        "\n",
        "    return z_scores\n",
        "\n",
        "# Example usage\n",
        "data = [49.1, 50.2, 51.0, 48.7, 50.5, 49.8, 50.3, 50.7, 50.2, 49.6,\n",
        "        50.1, 49.9, 50.8, 50.4, 48.9, 50.6, 50.0, 49.7, 50.2, 49.5]\n",
        "\n",
        "z_scores = z_score_analysis(data)\n",
        "print(\"Z-scores:\", np.round(z_scores, 3))\n"
      ],
      "metadata": {
        "colab": {
          "base_uri": "https://localhost:8080/",
          "height": 522
        },
        "id": "oce69LjJlnBz",
        "outputId": "076e41b1-8296-4b94-c708-d67e53446f86"
      },
      "execution_count": 5,
      "outputs": [
        {
          "output_type": "display_data",
          "data": {
            "text/plain": [
              "<Figure size 800x500 with 1 Axes>"
            ],
            "image/png": "[encoded data removed]"
          },
          "metadata": {}
        },
        {
          "output_type": "stream",
          "name": "stdout",
          "text": [
            "Z-scores: [-1.46   0.305  1.589 -2.102  0.786 -0.337  0.465  1.107  0.305 -0.658\n",
            "  0.144 -0.177  1.268  0.626 -1.781  0.947 -0.016 -0.497  0.305 -0.818]\n"
          ]
        }
      ]
    },
    {
      "cell_type": "markdown",
      "source": [
        "#THANK YOU\n"
      ],
      "metadata": {
        "id": "FTu9LhHBmrij"
      }
    },
    {
      "cell_type": "code",
      "source": [],
      "metadata": {
        "id": "MX3nlxRvlkEa"
      },
      "execution_count": null,
      "outputs": []
    },
    {
      "cell_type": "markdown",
      "source": [],
      "metadata": {
        "id": "7Qgwn1Alj34l"
      }
    },
    {
      "cell_type": "code",
      "execution_count": null,
      "metadata": {
        "id": "dhGwJpiKfxMe"
      },
      "outputs": [],
      "source": []
    }
  ]
}